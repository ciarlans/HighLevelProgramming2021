{
 "cells": [
  {
   "cell_type": "markdown",
   "metadata": {},
   "source": [
    "# Modules/packages/libraries\n",
    "\n",
    "Definitions:\n",
    "\n",
    "  * Modules:\n",
    "  A module is a file which contains python functions, global variables etc. It is nothing but .py file which has python executable code / statement.\n",
    "\n",
    "  * Packages:\n",
    "  A package is a collection of Python modules: while a module is a single Python file, a package is a directory of Python modules containing an additional `__init__.py` file, to distinguish a package from a directory that just happens to contain a bunch of Python scripts. Packages can be nested to any depth, provided that the corresponding directories contain their own `__init__.py` file.\n",
    "  \n",
    "  * Libraries:\n",
    "  A library is a collection of various packages. There is no difference between package and python library conceptually.\n",
    "  \n",
    "Modules/packages/libraries can be easily \"imported\" and made functional in your python code. A set of libriaries comes with every python installation. Others can be installed locally and then imported. Your own code sitting somewhere else in your local computer can be imported too.\n",
    "\n",
    "Further details on packages and how to create them can be found on the online Python documentation. We may find the need of creating our own during the course."
   ]
  },
  {
   "cell_type": "code",
   "execution_count": 1,
   "metadata": {},
   "outputs": [
    {
     "name": "stdout",
     "output_type": "stream",
     "text": [
      "3.141592653589793\n",
      "3.141592653589793\n",
      "3.141592653589793\n",
      "2.6457513110645907\n"
     ]
    }
   ],
   "source": [
    "# import all the \"stuff\" that is in the math library\n",
    "import math\n",
    "print(math.pi) #how I call the object of the math library\n",
    "\n",
    "# you can give math a label for convenience\n",
    "import math as m #as I'll call the library math on my code\n",
    "print(m.pi)\n",
    "\n",
    "# alternatively you can import only a given \"thing\" from the library\n",
    "from math import pi    #you can add several libraries at once, just list them separated by a \", \"\n",
    "print(pi) #I dont have to call the library in order to use pi because above i've imported only pi from math library\n",
    "\n",
    "# or just get everything (try to avoid this if you only need specific \"things\")\n",
    "from math import * #sentire\n",
    "print(sqrt(7))"
   ]
  },
  {
   "cell_type": "markdown",
   "metadata": {},
   "source": [
    "To know which modules are there for you to use just type:"
   ]
  },
  {
   "cell_type": "code",
   "execution_count": 2,
   "metadata": {},
   "outputs": [
    {
     "name": "stdout",
     "output_type": "stream",
     "text": [
      "sys\n",
      "builtins\n",
      "_frozen_importlib\n",
      "_imp\n",
      "_thread\n",
      "_warnings\n",
      "_weakref\n",
      "zipimport\n",
      "_frozen_importlib_external\n",
      "_io\n",
      "marshal\n",
      "posix\n",
      "encodings\n",
      "codecs\n",
      "_codecs\n",
      "encodings.aliases\n",
      "encodings.utf_8\n",
      "_signal\n",
      "__main__\n",
      "encodings.latin_1\n",
      "io\n",
      "abc\n",
      "_abc\n",
      "site\n",
      "os\n",
      "stat\n",
      "_stat\n",
      "posixpath\n",
      "genericpath\n",
      "os.path\n",
      "_collections_abc\n",
      "_sitebuiltins\n",
      "sitecustomize\n",
      "re\n",
      "enum\n",
      "types\n",
      "_collections\n",
      "sre_compile\n",
      "_sre\n",
      "sre_parse\n",
      "sre_constants\n",
      "functools\n",
      "_functools\n",
      "collections\n",
      "operator\n",
      "_operator\n",
      "keyword\n",
      "heapq\n",
      "_heapq\n",
      "itertools\n",
      "reprlib\n",
      "_locale\n",
      "copyreg\n",
      "runpy\n",
      "importlib\n",
      "importlib._bootstrap\n",
      "importlib._bootstrap_external\n",
      "warnings\n",
      "importlib.machinery\n",
      "importlib.util\n",
      "importlib.abc\n",
      "contextlib\n",
      "pkgutil\n",
      "weakref\n",
      "_weakrefset\n",
      "ipykernel\n",
      "ipykernel._version\n",
      "ipykernel.connect\n",
      "json\n",
      "json.decoder\n",
      "json.scanner\n",
      "_json\n",
      "json.encoder\n",
      "subprocess\n",
      "time\n",
      "signal\n",
      "errno\n",
      "_posixsubprocess\n",
      "select\n",
      "selectors\n",
      "collections.abc\n",
      "math\n",
      "threading\n",
      "traceback\n",
      "linecache\n",
      "tokenize\n",
      "token\n",
      "jupyter_client\n",
      "jupyter_client._version\n",
      "typing\n",
      "typing.io\n",
      "typing.re\n",
      "jupyter_client.asynchronous\n",
      "jupyter_client.asynchronous.client\n",
      "traitlets\n",
      "traitlets.traitlets\n",
      "ast\n",
      "_ast\n",
      "inspect\n",
      "dis\n",
      "opcode\n",
      "_opcode\n",
      "traitlets.utils\n",
      "traitlets.utils.getargspec\n",
      "traitlets.utils.importstring\n",
      "traitlets.utils.sentinel\n",
      "traitlets.utils.bunch\n",
      "traitlets.utils.descriptions\n",
      "traitlets.utils.decorators\n",
      "copy\n",
      "traitlets._version\n",
      "jupyter_client.channels\n",
      "asyncio\n",
      "asyncio.base_events\n",
      "concurrent\n",
      "concurrent.futures\n",
      "concurrent.futures._base\n",
      "logging\n",
      "string\n",
      "_string\n",
      "atexit\n",
      "socket\n",
      "_socket\n",
      "ssl\n",
      "_ssl\n",
      "base64\n",
      "struct\n",
      "_struct\n",
      "binascii\n",
      "asyncio.constants\n",
      "asyncio.coroutines\n",
      "asyncio.base_futures\n",
      "asyncio.format_helpers\n",
      "asyncio.log\n",
      "asyncio.events\n",
      "contextvars\n",
      "_contextvars\n",
      "asyncio.base_tasks\n",
      "_asyncio\n",
      "asyncio.futures\n",
      "asyncio.protocols\n",
      "asyncio.sslproto\n",
      "asyncio.transports\n",
      "asyncio.tasks\n",
      "asyncio.locks\n",
      "asyncio.runners\n",
      "asyncio.queues\n",
      "asyncio.streams\n",
      "asyncio.subprocess\n",
      "asyncio.unix_events\n",
      "asyncio.base_subprocess\n",
      "asyncio.selector_events\n",
      "queue\n",
      "_queue\n",
      "zmq\n",
      "platform\n",
      "ctypes\n",
      "_ctypes\n",
      "ctypes._endian\n",
      "zmq.backend\n",
      "zmq.backend.select\n",
      "zmq.backend.cython\n",
      "zmq.backend.cython.constants\n",
      "cython_runtime\n",
      "zmq.backend.cython.error\n",
      "_cython_0_29_24\n",
      "zmq.backend.cython.message\n",
      "zmq.error\n",
      "zmq.backend.cython.context\n",
      "zmq.backend.cython.socket\n",
      "random\n",
      "hashlib\n",
      "_hashlib\n",
      "_blake2\n",
      "_sha3\n",
      "bisect\n",
      "_bisect\n",
      "_random\n",
      "pickle\n",
      "_compat_pickle\n",
      "_pickle\n",
      "zmq.backend.cython.utils\n",
      "zmq.backend.cython._poll\n",
      "zmq.backend.cython._version\n",
      "zmq.backend.cython._device\n",
      "zmq.backend.cython._proxy_steerable\n",
      "zmq.sugar\n",
      "zmq.sugar.constants\n",
      "zmq.utils\n",
      "zmq.utils.constant_names\n",
      "zmq.sugar.context\n",
      "zmq.sugar.attrsettr\n",
      "zmq.sugar.socket\n",
      "zmq.sugar.poll\n",
      "zmq.utils.jsonapi\n",
      "zmq.utils.strtypes\n",
      "zmq.sugar.frame\n",
      "zmq.sugar.tracker\n",
      "zmq.sugar.version\n",
      "zmq.sugar.stopwatch\n",
      "zmq.asyncio\n",
      "zmq._future\n",
      "jupyter_client.channelsabc\n",
      "jupyter_client.session\n",
      "hmac\n",
      "pprint\n",
      "datetime\n",
      "_datetime\n",
      "traitlets.config\n",
      "traitlets.config.application\n",
      "traitlets.config.configurable\n",
      "traitlets.config.loader\n",
      "argparse\n",
      "gettext\n",
      "locale\n",
      "traitlets.utils.text\n",
      "textwrap\n",
      "traitlets.log\n",
      "zmq.eventloop\n",
      "zmq.eventloop.ioloop\n",
      "__future__\n",
      "tornado\n",
      "tornado.log\n",
      "logging.handlers\n",
      "tornado.escape\n",
      "html\n",
      "html.entities\n",
      "urllib\n",
      "urllib.parse\n",
      "tornado.util\n",
      "array\n",
      "zlib\n",
      "tornado.speedups\n",
      "curses\n",
      "_curses\n",
      "tornado.ioloop\n",
      "numbers\n",
      "tornado.concurrent\n",
      "tornado.platform\n",
      "tornado.platform.asyncio\n",
      "tornado.gen\n",
      "zmq.eventloop.zmqstream\n",
      "jupyter_client.adapter\n",
      "jupyter_client.jsonutil\n",
      "dateutil\n",
      "dateutil._version\n",
      "dateutil.parser\n",
      "dateutil.parser._parser\n",
      "calendar\n",
      "six\n",
      "decimal\n",
      "_decimal\n",
      "dateutil.relativedelta\n",
      "dateutil._common\n",
      "dateutil.tz\n",
      "dateutil.tz.tz\n",
      "six.moves\n",
      "dateutil.tz._common\n",
      "dateutil.tz._factories\n",
      "dateutil.parser.isoparser\n",
      "_strptime\n",
      "jupyter_client.client\n",
      "getpass\n",
      "termios\n",
      "jupyter_client.clientabc\n",
      "jupyter_client.connect\n",
      "glob\n",
      "fnmatch\n",
      "tempfile\n",
      "shutil\n",
      "bz2\n",
      "_compression\n",
      "_bz2\n",
      "lzma\n",
      "_lzma\n",
      "pwd\n",
      "grp\n",
      "jupyter_core\n",
      "jupyter_core.version\n",
      "jupyter_core.paths\n",
      "pathlib\n",
      "ntpath\n",
      "jupyter_client.localinterfaces\n",
      "jupyter_client.utils\n",
      "jupyter_client.blocking\n",
      "jupyter_client.blocking.client\n",
      "jupyter_client.launcher\n",
      "jupyter_client.manager\n",
      "uuid\n",
      "_uuid\n",
      "jupyter_client.managerabc\n",
      "jupyter_client.provisioning\n",
      "jupyter_client.provisioning.factory\n",
      "entrypoints\n",
      "zipfile\n",
      "configparser\n",
      "jupyter_client.provisioning.provisioner_base\n",
      "jupyter_client.provisioning.local_provisioner\n",
      "jupyter_client.kernelspec\n",
      "jupyter_client.multikernelmanager\n",
      "ipykernel.kernelapp\n",
      "IPython\n",
      "IPython.core\n",
      "IPython.core.getipython\n",
      "IPython.core.release\n",
      "IPython.core.application\n",
      "IPython.core.crashhandler\n",
      "IPython.core.ultratb\n",
      "pydoc\n",
      "IPython.core.debugger\n",
      "bdb\n",
      "IPython.utils\n",
      "IPython.utils.PyColorize\n",
      "IPython.utils.coloransi\n",
      "IPython.utils.ipstruct\n",
      "IPython.utils.colorable\n",
      "pygments\n",
      "IPython.utils.py3compat\n",
      "IPython.utils.encoding\n",
      "IPython.core.excolors\n",
      "IPython.testing\n",
      "IPython.testing.skipdoctest\n",
      "pdb\n",
      "cmd\n",
      "code\n",
      "codeop\n",
      "IPython.core.display_trap\n",
      "IPython.utils.path\n",
      "IPython.utils.process\n",
      "IPython.utils._process_posix\n",
      "pexpect\n",
      "pexpect.exceptions\n",
      "pexpect.utils\n",
      "pexpect.expect\n",
      "pexpect.pty_spawn\n",
      "pty\n",
      "tty\n",
      "ptyprocess\n",
      "ptyprocess.ptyprocess\n",
      "fcntl\n",
      "resource\n",
      "ptyprocess.util\n",
      "pexpect.spawnbase\n",
      "pexpect.run\n",
      "IPython.utils._process_common\n",
      "shlex\n",
      "IPython.utils.decorators\n",
      "IPython.utils.data\n",
      "IPython.utils.terminal\n",
      "IPython.utils.sysinfo\n",
      "IPython.utils._sysinfo\n",
      "IPython.core.profiledir\n",
      "IPython.paths\n",
      "IPython.utils.importstring\n",
      "IPython.terminal\n",
      "IPython.terminal.embed\n",
      "IPython.core.compilerop\n",
      "IPython.core.magic_arguments\n",
      "IPython.core.error\n",
      "IPython.utils.text\n",
      "IPython.core.magic\n",
      "getopt\n",
      "IPython.core.oinspect\n",
      "IPython.core.page\n",
      "IPython.core.display\n",
      "mimetypes\n",
      "IPython.lib\n",
      "IPython.lib.security\n",
      "IPython.lib.pretty\n",
      "IPython.utils.openpy\n",
      "IPython.utils.dir2\n",
      "IPython.utils.wildcard\n",
      "pygments.lexers\n",
      "pygments.lexers._mapping\n",
      "pygments.modeline\n",
      "pygments.plugin\n",
      "pygments.util\n",
      "pygments.lexers.python\n",
      "pygments.lexer\n",
      "pygments.filter\n",
      "pygments.filters\n",
      "pygments.token\n",
      "pygments.regexopt\n",
      "pygments.unistring\n",
      "pygments.formatters\n",
      "pygments.formatters._mapping\n",
      "pygments.formatters.html\n",
      "pygments.formatter\n",
      "pygments.styles\n",
      "IPython.core.inputtransformer2\n",
      "decorator\n",
      "IPython.core.interactiveshell\n",
      "pickleshare\n",
      "IPython.core.prefilter\n",
      "IPython.core.autocall\n",
      "IPython.core.macro\n",
      "IPython.core.splitinput\n",
      "IPython.core.alias\n",
      "IPython.core.builtin_trap\n",
      "IPython.core.events\n",
      "backcall\n",
      "backcall.backcall\n",
      "IPython.core.displayhook\n",
      "IPython.core.displaypub\n",
      "IPython.core.extensions\n",
      "IPython.core.formatters\n",
      "IPython.utils.sentinel\n",
      "IPython.core.history\n",
      "sqlite3\n",
      "sqlite3.dbapi2\n",
      "_sqlite3\n",
      "IPython.core.logger\n",
      "IPython.core.payload\n",
      "IPython.core.usage\n",
      "IPython.display\n",
      "IPython.lib.display\n",
      "IPython.utils.io\n",
      "IPython.utils.capture\n",
      "_bootlocale\n",
      "IPython.utils.strdispatch\n",
      "IPython.core.hooks\n",
      "IPython.utils.syspathcontext\n",
      "IPython.utils.tempdir\n",
      "IPython.utils.contexts\n",
      "IPython.core.async_helpers\n",
      "IPython.terminal.interactiveshell\n",
      "prompt_toolkit\n",
      "prompt_toolkit.application\n",
      "prompt_toolkit.application.application\n",
      "prompt_toolkit.buffer\n",
      "prompt_toolkit.application.current\n",
      "prompt_toolkit.application.run_in_terminal\n",
      "prompt_toolkit.eventloop\n",
      "prompt_toolkit.eventloop.async_generator\n",
      "prompt_toolkit.eventloop.utils\n",
      "prompt_toolkit.eventloop.inputhook\n",
      "prompt_toolkit.utils\n",
      "wcwidth\n",
      "wcwidth.wcwidth\n",
      "wcwidth.table_wide\n",
      "wcwidth.table_zero\n",
      "wcwidth.unicode_versions\n",
      "prompt_toolkit.auto_suggest\n",
      "prompt_toolkit.document\n",
      "prompt_toolkit.clipboard\n",
      "prompt_toolkit.clipboard.base\n",
      "prompt_toolkit.selection\n",
      "prompt_toolkit.clipboard.in_memory\n",
      "prompt_toolkit.filters\n",
      "prompt_toolkit.filters.app\n",
      "prompt_toolkit.cache\n",
      "prompt_toolkit.enums\n",
      "prompt_toolkit.filters.base\n",
      "prompt_toolkit.filters.cli\n",
      "prompt_toolkit.filters.utils\n",
      "prompt_toolkit.completion\n",
      "prompt_toolkit.completion.base\n",
      "prompt_toolkit.formatted_text\n",
      "prompt_toolkit.formatted_text.ansi\n",
      "prompt_toolkit.output\n",
      "prompt_toolkit.output.base\n",
      "prompt_toolkit.data_structures\n",
      "prompt_toolkit.styles\n",
      "prompt_toolkit.styles.base\n",
      "prompt_toolkit.styles.defaults\n",
      "prompt_toolkit.styles.named_colors\n",
      "prompt_toolkit.styles.style\n",
      "prompt_toolkit.styles.pygments\n",
      "prompt_toolkit.styles.style_transformation\n",
      "colorsys\n",
      "prompt_toolkit.output.color_depth\n",
      "prompt_toolkit.output.defaults\n",
      "prompt_toolkit.output.vt100\n",
      "prompt_toolkit.formatted_text.base\n",
      "prompt_toolkit.mouse_events\n",
      "prompt_toolkit.formatted_text.html\n",
      "xml\n",
      "xml.dom\n",
      "xml.dom.domreg\n",
      "xml.dom.minidom\n",
      "xml.dom.minicompat\n",
      "xml.dom.xmlbuilder\n",
      "xml.dom.NodeFilter\n",
      "prompt_toolkit.formatted_text.pygments\n",
      "prompt_toolkit.formatted_text.utils\n",
      "prompt_toolkit.completion.deduplicate\n",
      "prompt_toolkit.completion.filesystem\n",
      "prompt_toolkit.completion.fuzzy_completer\n",
      "prompt_toolkit.completion.word_completer\n",
      "prompt_toolkit.completion.nested\n",
      "prompt_toolkit.history\n",
      "prompt_toolkit.search\n",
      "prompt_toolkit.key_binding\n",
      "prompt_toolkit.key_binding.key_bindings\n",
      "prompt_toolkit.keys\n",
      "prompt_toolkit.key_binding.key_processor\n",
      "prompt_toolkit.key_binding.vi_state\n",
      "prompt_toolkit.validation\n",
      "prompt_toolkit.input\n",
      "prompt_toolkit.input.base\n",
      "prompt_toolkit.input.defaults\n",
      "prompt_toolkit.input.typeahead\n",
      "prompt_toolkit.key_binding.bindings\n",
      "prompt_toolkit.key_binding.bindings.page_navigation\n",
      "prompt_toolkit.key_binding.bindings.scroll\n",
      "prompt_toolkit.key_binding.defaults\n",
      "prompt_toolkit.key_binding.bindings.basic\n",
      "prompt_toolkit.key_binding.bindings.named_commands\n",
      "prompt_toolkit.layout\n",
      "prompt_toolkit.layout.containers\n",
      "prompt_toolkit.layout.controls\n",
      "prompt_toolkit.lexers\n",
      "prompt_toolkit.lexers.base\n",
      "prompt_toolkit.lexers.pygments\n",
      "prompt_toolkit.layout.processors\n",
      "prompt_toolkit.layout.utils\n",
      "prompt_toolkit.layout.dimension\n",
      "prompt_toolkit.layout.margins\n",
      "prompt_toolkit.layout.mouse_handlers\n",
      "prompt_toolkit.layout.screen\n",
      "prompt_toolkit.layout.layout\n",
      "prompt_toolkit.layout.menus\n",
      "prompt_toolkit.layout.scrollable_pane\n",
      "prompt_toolkit.key_binding.bindings.completion\n",
      "prompt_toolkit.key_binding.bindings.cpr\n",
      "prompt_toolkit.key_binding.bindings.emacs\n",
      "prompt_toolkit.key_binding.bindings.mouse\n",
      "prompt_toolkit.key_binding.bindings.vi\n",
      "prompt_toolkit.input.vt100_parser\n",
      "prompt_toolkit.input.ansi_escape_sequences\n",
      "prompt_toolkit.key_binding.digraphs\n",
      "prompt_toolkit.key_binding.emacs_state\n",
      "prompt_toolkit.layout.dummy\n",
      "prompt_toolkit.renderer\n",
      "prompt_toolkit.application.dummy\n",
      "prompt_toolkit.shortcuts\n",
      "prompt_toolkit.shortcuts.dialogs\n",
      "prompt_toolkit.key_binding.bindings.focus\n",
      "prompt_toolkit.widgets\n",
      "prompt_toolkit.widgets.base\n",
      "prompt_toolkit.widgets.toolbars\n",
      "prompt_toolkit.widgets.dialogs\n",
      "prompt_toolkit.widgets.menus\n",
      "prompt_toolkit.shortcuts.progress_bar\n",
      "prompt_toolkit.shortcuts.progress_bar.base\n",
      "prompt_toolkit.shortcuts.progress_bar.formatters\n",
      "prompt_toolkit.shortcuts.prompt\n",
      "prompt_toolkit.key_binding.bindings.auto_suggest\n",
      "prompt_toolkit.key_binding.bindings.open_in_editor\n",
      "prompt_toolkit.shortcuts.utils\n",
      "prompt_toolkit.patch_stdout\n",
      "pygments.style\n",
      "IPython.terminal.debugger\n",
      "IPython.core.completer\n",
      "unicodedata\n",
      "IPython.core.latex_symbols\n",
      "IPython.utils.generics\n",
      "jedi\n",
      "jedi.api\n",
      "parso\n",
      "parso.parser\n",
      "parso.tree\n",
      "parso.utils\n",
      "parso.pgen2\n",
      "parso.pgen2.generator\n",
      "parso.pgen2.grammar_parser\n",
      "parso.python\n",
      "parso.python.tokenize\n",
      "parso.python.token\n",
      "parso.grammar\n",
      "parso._compatibility\n",
      "parso.python.diff\n",
      "difflib\n",
      "parso.python.parser\n",
      "parso.python.tree\n",
      "parso.python.prefix\n",
      "parso.cache\n",
      "gc\n",
      "parso.python.errors\n",
      "parso.normalizer\n",
      "parso.python.pep8\n",
      "parso.file_io\n",
      "jedi._compatibility\n",
      "jedi.parser_utils\n",
      "jedi.debug\n",
      "jedi.settings\n",
      "jedi.cache\n",
      "jedi.file_io\n",
      "jedi.api.classes\n",
      "jedi.inference\n",
      "jedi.inference.imports\n",
      "jedi.inference.sys_path\n",
      "jedi.inference.cache\n",
      "jedi.inference.base_value\n",
      "jedi.inference.helpers\n",
      "jedi.inference.utils\n",
      "jedi.inference.compiled\n",
      "jedi.inference.compiled.value\n",
      "jedi.inference.filters\n",
      "jedi.inference.flow_analysis\n",
      "jedi.inference.recursion\n",
      "jedi.inference.names\n",
      "jedi.inference.docstrings\n",
      "jedi.common\n",
      "jedi.inference.lazy_value\n",
      "jedi.plugins\n",
      "jedi.inference.compiled.access\n",
      "jedi.inference.compiled.getattr_static\n",
      "jedi.inference.signature\n",
      "jedi.inference.context\n",
      "jedi.inference.analysis\n",
      "jedi.inference.gradual\n",
      "jedi.inference.gradual.typeshed\n",
      "jedi.inference.gradual.stub_value\n",
      "jedi.inference.value\n",
      "jedi.inference.value.module\n",
      "jedi.inference.value.klass\n",
      "jedi.inference.arguments\n",
      "jedi.inference.value.iterable\n",
      "jedi.inference.value.dynamic_arrays\n",
      "jedi.inference.value.function\n",
      "jedi.inference.parser_cache\n",
      "jedi.inference.gradual.generics\n",
      "jedi.inference.value.instance\n",
      "jedi.inference.gradual.typing\n",
      "jedi.inference.gradual.base\n",
      "jedi.inference.gradual.type_var\n",
      "jedi.inference.compiled.subprocess\n",
      "jedi.inference.compiled.subprocess.functions\n",
      "jedi.api.exceptions\n",
      "jedi.inference.syntax_tree\n",
      "jedi.inference.gradual.annotation\n",
      "jedi.inference.param\n",
      "jedi.inference.value.decorator\n",
      "jedi.inference.compiled.mixed\n",
      "jedi.inference.gradual.conversion\n",
      "jedi.api.keywords\n",
      "pydoc_data\n",
      "pydoc_data.topics\n",
      "jedi.api.completion_cache\n",
      "jedi.api.helpers\n",
      "jedi.api.interpreter\n",
      "jedi.api.completion\n",
      "jedi.api.strings\n",
      "jedi.api.file_name\n",
      "jedi.api.environment\n",
      "filecmp\n",
      "jedi.api.project\n",
      "jedi.inference.references\n",
      "jedi.api.errors\n",
      "jedi.api.refactoring\n",
      "jedi.api.refactoring.extract\n",
      "jedi.inference.gradual.utils\n",
      "jedi.plugins.registry\n",
      "jedi.plugins.stdlib\n",
      "jedi.plugins.flask\n",
      "jedi.plugins.pytest\n",
      "jedi.plugins.django\n",
      "IPython.terminal.ptutils\n",
      "IPython.terminal.shortcuts\n",
      "IPython.terminal.magics\n",
      "IPython.lib.clipboard\n",
      "IPython.terminal.pt_inputhooks\n",
      "IPython.terminal.prompts\n",
      "IPython.terminal.ipapp\n",
      "IPython.core.magics\n",
      "IPython.core.magics.auto\n",
      "IPython.core.magics.basic\n",
      "IPython.core.magics.code\n",
      "urllib.request\n",
      "email\n",
      "http\n",
      "http.client\n",
      "email.parser\n",
      "email.feedparser\n",
      "email.errors\n",
      "email._policybase\n",
      "email.header\n",
      "email.quoprimime\n",
      "email.base64mime\n",
      "email.charset\n",
      "email.encoders\n",
      "quopri\n",
      "email.utils\n",
      "email._parseaddr\n",
      "email.message\n",
      "uu\n",
      "email._encoded_words\n",
      "email.iterators\n",
      "urllib.error\n",
      "urllib.response\n",
      "_scproxy\n",
      "IPython.core.magics.config\n",
      "IPython.core.magics.display\n",
      "IPython.core.magics.execution\n",
      "timeit\n",
      "cProfile\n",
      "_lsprof\n",
      "profile\n",
      "pstats\n",
      "IPython.utils.module_paths\n",
      "IPython.utils.timing\n",
      "IPython.core.magics.extension\n",
      "IPython.core.magics.history\n",
      "IPython.core.magics.logging\n",
      "IPython.core.magics.namespace\n",
      "IPython.core.magics.osm\n",
      "IPython.core.magics.packaging\n",
      "IPython.core.magics.pylab\n",
      "IPython.core.pylabtools\n",
      "IPython.core.magics.script\n",
      "IPython.lib.backgroundjobs\n",
      "IPython.core.shellapp\n",
      "IPython.extensions\n",
      "IPython.extensions.storemagic\n",
      "IPython.utils.frame\n",
      "ipython_genutils\n",
      "ipython_genutils._version\n",
      "ipython_genutils.path\n",
      "ipython_genutils.py3compat\n",
      "ipython_genutils.encoding\n",
      "ipykernel.iostream\n",
      "imp\n",
      "ipykernel.control\n",
      "ipykernel.heartbeat\n",
      "ipykernel.ipkernel\n",
      "IPython.utils.tokenutil\n",
      "ipykernel.comm\n",
      "ipykernel.comm.manager\n",
      "ipykernel.comm.comm\n",
      "ipykernel.kernelbase\n",
      "tornado.queues\n",
      "tornado.locks\n",
      "ipykernel.jsonutil\n",
      "ipykernel.zmqshell\n",
      "IPython.core.payloadpage\n",
      "ipykernel.displayhook\n",
      "ipykernel.eventloops\n",
      "distutils\n",
      "distutils.version\n",
      "ipykernel.compiler\n",
      "debugpy\n",
      "debugpy._version\n",
      "debugpy.common\n",
      "debugpy.common.compat\n",
      "debugpy.common.fmt\n",
      "debugpy.common.json\n",
      "ipykernel.debugger\n",
      "debugpy.server\n",
      "debugpy._vendored\n",
      "debugpy._vendored._util\n",
      "debugpy._vendored.force_pydevd\n",
      "_pydevd_bundle\n",
      "_pydevd_bundle.pydevd_constants\n",
      "encodings.ascii\n",
      "encodings.idna\n",
      "stringprep\n",
      "_pydevd_bundle.pydevd_vm_type\n",
      "_pydev_imps\n",
      "_pydev_imps._pydev_saved_modules\n",
      "xmlrpc\n",
      "xmlrpc.client\n",
      "xml.parsers\n",
      "xml.parsers.expat\n",
      "pyexpat.errors\n",
      "pyexpat.model\n",
      "pyexpat\n",
      "xml.parsers.expat.model\n",
      "xml.parsers.expat.errors\n",
      "gzip\n",
      "xmlrpc.server\n",
      "http.server\n",
      "socketserver\n",
      "_pydev_bundle\n",
      "_pydev_runfiles\n",
      "_pydevd_frame_eval\n",
      "pydev_ipython\n",
      "pydevd_concurrency_analyser\n",
      "pydevd_plugins\n",
      "pkg_resources\n",
      "plistlib\n",
      "pkg_resources.extern\n",
      "pkg_resources._vendor\n",
      "pkg_resources.extern.six\n",
      "pkg_resources._vendor.six\n",
      "pkg_resources.extern.six.moves\n",
      "pkg_resources._vendor.six.moves\n",
      "pkg_resources.py31compat\n",
      "pkg_resources.extern.appdirs\n",
      "pkg_resources._vendor.packaging.__about__\n",
      "pkg_resources.extern.packaging\n",
      "pkg_resources.extern.packaging.version\n",
      "pkg_resources.extern.packaging._structures\n",
      "pkg_resources.extern.packaging.specifiers\n",
      "pkg_resources.extern.packaging._compat\n",
      "pkg_resources.extern.packaging.requirements\n",
      "pkg_resources.extern.pyparsing\n",
      "pkg_resources.extern.six.moves.urllib\n",
      "pkg_resources.extern.packaging.markers\n",
      "sysconfig\n",
      "_osx_support\n",
      "_sysconfigdata_m_darwin_darwin\n",
      "pydevd\n",
      "pydevd_file_utils\n",
      "_pydev_bundle.pydev_log\n",
      "_pydev_bundle._pydev_filesystem_encoding\n",
      "_pydevd_bundle.pydevd_comm_constants\n",
      "_pydev_bundle.pydev_imports\n",
      "_pydev_imps._pydev_execfile\n",
      "_pydevd_bundle.pydevd_exec2\n",
      "_pydev_bundle.pydev_is_thread_alive\n",
      "_pydev_bundle.pydev_override\n",
      "_pydevd_bundle.pydevd_extension_utils\n",
      "pydevd_plugins.extensions\n",
      "_pydevd_bundle.pydevd_frame_utils\n",
      "_pydevd_bundle.pydevd_filtering\n",
      "_pydevd_bundle.pydevd_io\n",
      "_pydevd_bundle.pydevd_utils\n",
      "_pydev_bundle.pydev_console_utils\n",
      "_pydev_bundle._pydev_calltip_util\n",
      "_pydev_bundle._pydev_imports_tipper\n",
      "_pydev_bundle._pydev_tipper_common\n",
      "_pydevd_bundle.pydevd_vars\n",
      "_pydevd_bundle.pydevd_xml\n",
      "_pydevd_bundle.pydevd_resolver\n",
      "_pydevd_bundle.pydevd_safe_repr\n",
      "_pydevd_bundle.pydevd_extension_api\n",
      "_pydevd_bundle.pydevd_thread_lifecycle\n",
      "_pydevd_bundle.pydevd_additional_thread_info\n",
      "_pydevd_bundle.pydevd_additional_thread_info_regular\n",
      "_pydevd_bundle.pydevd_frame\n",
      "_pydevd_bundle.pydevd_dont_trace\n",
      "_pydevd_bundle.pydevd_bytecode_utils\n",
      "_pydevd_frame_eval.vendored\n",
      "_pydevd_frame_eval.vendored.bytecode\n",
      "_pydevd_frame_eval.vendored.bytecode.flags\n",
      "_pydevd_frame_eval.vendored.bytecode.instr\n",
      "_pydevd_frame_eval.vendored.bytecode.bytecode\n",
      "_pydevd_frame_eval.vendored.bytecode.concrete\n",
      "_pydevd_frame_eval.vendored.bytecode.cfg\n",
      "_pydevd_bundle.pydevd_save_locals\n",
      "_pydevd_bundle.pydevd_timeout\n",
      "_pydevd_bundle.pydevd_daemon_thread\n",
      "pydevd_tracing\n",
      "_pydev_bundle.pydev_monkey\n",
      "_pydevd_bundle.pydevd_defaults\n",
      "_pydevd_bundle.pydevd_breakpoints\n",
      "_pydevd_bundle.pydevd_import_class\n",
      "_pydevd_bundle.pydevd_custom_frames\n",
      "_pydevd_bundle.pydevd_dont_trace_files\n",
      "_pydevd_bundle.pydevd_net_command_factory_xml\n",
      "_pydevd_bundle.pydevd_net_command\n",
      "_pydev_bundle._pydev_completer\n",
      "pydevconsole\n",
      "_pydev_bundle.pydev_umd\n",
      "_pydevd_bundle.pydevd_trace_dispatch\n",
      "_pydevd_bundle.pydevd_trace_dispatch_regular\n",
      "_pydevd_frame_eval.pydevd_frame_eval_main\n",
      "_pydevd_bundle.pydevd_source_mapping\n",
      "pydevd_concurrency_analyser.pydevd_concurrency_logger\n",
      "pydevd_concurrency_analyser.pydevd_thread_wrappers\n",
      "_pydevd_bundle.pydevd_comm\n",
      "_pydevd_bundle._debug_adapter\n",
      "_pydevd_bundle._debug_adapter.pydevd_schema\n",
      "_pydevd_bundle._debug_adapter.pydevd_base_schema\n",
      "_pydevd_bundle._debug_adapter.pydevd_schema_log\n",
      "_pydevd_bundle.pydevd_reload\n",
      "_pydev_bundle.fsnotify\n",
      "_pydevd_bundle.pydevd_console\n",
      "_pydevd_bundle.pydevd_process_net_command_json\n",
      "_pydevd_bundle.pydevd_api\n",
      "_pydevd_bundle.pydevd_net_command_factory_json\n",
      "_pydevd_bundle.pydevd_collect_bytecode_info\n",
      "_pydevd_bundle.pydevd_json_debug_options\n",
      "_pydevd_bundle.pydevd_process_net_command\n",
      "_pydevd_bundle.pydevd_traceproperty\n",
      "_pydevd_bundle.pydevd_suspended_frames\n",
      "_pydevd_bundle.pydevd_plugin_utils\n",
      "_pydevd_bundle.pydevd_trace_api\n",
      "pydevd_plugins.django_debug\n",
      "pydevd_plugins.jinja2_debug\n",
      "pydevd_plugins.extensions.types\n",
      "pydevd_plugins.extensions.types.pydevd_plugin_numpy_types\n",
      "pydevd_plugins.extensions.types.pydevd_helpers\n",
      "pydevd_plugins.extensions.types.pydevd_plugins_django_form_str\n",
      "debugpy.server.api\n",
      "debugpy.adapter\n",
      "debugpy.common.log\n",
      "debugpy.common.timestamp\n",
      "debugpy.common.util\n",
      "debugpy.common.sockets\n",
      "ipykernel.parentpoller\n",
      "faulthandler\n",
      "IPython.core.completerlib\n",
      "appnope\n",
      "appnope._nope\n",
      "ctypes.util\n",
      "ctypes.macholib\n",
      "ctypes.macholib.dyld\n",
      "ctypes.macholib.framework\n",
      "ctypes.macholib.dylib\n",
      "storemagic\n"
     ]
    }
   ],
   "source": [
    "import sys   #to see which modul I've importated\n",
    "for k, v in sys.modules.items(): #loop on the sys modules\n",
    "    print(k)\n",
    "\n",
    "#if i need a library not installed by default i use pip where I specify to my pc what I want to install writing \n",
    "#pip install library's-name\n",
    "#If i have python 2 i force to use phyton 3 writing python3 SENTIRE\n",
    "# Alternative for older python versions\n",
    "# print(help('modules') )"
   ]
  },
  {
   "cell_type": "markdown",
   "metadata": {},
   "source": [
    "`pip` is a special package. It is used from the command line to install properly (e.g. matching the version of the local packages) new packages. It can also be used from within python to check i.e. the set installed packages and their versions. N.B.: only the installed packages on top of the default ones will be listed "
   ]
  },
  {
   "cell_type": "code",
   "execution_count": 3,
   "metadata": {},
   "outputs": [
    {
     "name": "stdout",
     "output_type": "stream",
     "text": [
      "found distribution appnope version 0.1.2\n",
      "found distribution argcomplete version 1.12.3\n",
      "found distribution backcall version 0.2.0\n",
      "found distribution debugpy version 1.5.0\n",
      "found distribution decorator version 5.1.0\n",
      "found distribution entrypoints version 0.3\n",
      "found distribution importlib-metadata version 4.8.1\n",
      "found distribution ipykernel version 6.4.1\n",
      "found distribution ipython version 7.28.0\n",
      "found distribution ipython-genutils version 0.2.0\n",
      "found distribution jedi version 0.18.0\n",
      "found distribution jupyter-client version 7.0.6\n",
      "found distribution jupyter-core version 4.8.1\n",
      "found distribution matplotlib-inline version 0.1.3\n",
      "found distribution nest-asyncio version 1.5.1\n",
      "found distribution parso version 0.8.2\n",
      "found distribution pexpect version 4.8.0\n",
      "found distribution pickleshare version 0.7.5\n",
      "found distribution pip version 19.0.2\n",
      "found distribution prompt-toolkit version 3.0.20\n",
      "found distribution ptyprocess version 0.7.0\n",
      "found distribution Pygments version 2.10.0\n",
      "found distribution python-dateutil version 2.8.2\n",
      "found distribution pyzmq version 22.3.0\n",
      "found distribution setuptools version 40.8.0\n",
      "found distribution six version 1.16.0\n",
      "found distribution tornado version 6.1\n",
      "found distribution traitlets version 5.1.0\n",
      "found distribution typing-extensions version 3.10.0.2\n",
      "found distribution wcwidth version 0.2.5\n",
      "found distribution wheel version 0.33.0\n",
      "found distribution zipp version 3.6.0\n"
     ]
    }
   ],
   "source": [
    "import sys\n",
    "\n",
    "if sys.version_info >= (3, 8):\n",
    "    from importlib import metadata as importlib_metadata\n",
    "else:\n",
    "    import importlib_metadata\n",
    "\n",
    "dists = importlib_metadata.distributions()\n",
    "for dist in dists:\n",
    "    name = dist.metadata[\"Name\"]\n",
    "    version = dist.version\n",
    "    print(\"found distribution %s version %s\" % (name, version))\n",
    "\n",
    "#import pip\n",
    "#sorted([\"%s==%s\" % (i.key, i.version) for i in pip.get_installed_distributions()])"
   ]
  },
  {
   "cell_type": "markdown",
   "metadata": {},
   "source": [
    "# Functions"
   ]
  },
  {
   "cell_type": "code",
   "execution_count": 4,
   "metadata": {},
   "outputs": [
    {
     "name": "stdout",
     "output_type": "stream",
     "text": [
      "9\n",
      "27\n",
      "cube 27\n",
      "square 9\n"
     ]
    }
   ],
   "source": [
    "def square(x):\n",
    "    \"\"\"Square of x.\"\"\" #add a comment on what the function does qith tre \"\n",
    "    print(id(x))\n",
    "    return x*x #not mandatory the return\n",
    "\n",
    "def cube(x):\n",
    "    \"\"\"Cube of x.\"\"\"\n",
    "    print(id(x))\n",
    "    return x*x*x\n",
    "\n",
    "# create a dictionary of functions\n",
    "funcs = {               #funtions are objects as the other so I can make dictionaries of function, loop them etc...\n",
    "    'square': square,\n",
    "    'cube': cube,\n",
    "}\n",
    "\n",
    "x = 3\n",
    "print(id(x)) #to access the identification object of Python ???\n",
    "print(square(x)) #quando chiamo square P. create a new P. name of the oggetto che punta alla ???? SENTIRE\n",
    "print(cube(x))\n",
    "\n",
    "#for func in sorted(funcs):\n",
    "    #print (func, funcs[func](x))    #come è la sintassi??\n"
   ]
  },
  {
   "cell_type": "markdown",
   "metadata": {},
   "source": [
    "## Functions arguments"
   ]
  },
  {
   "cell_type": "markdown",
   "metadata": {},
   "source": [
    "What if the function tries to modify an immutable object set as default argument?"
   ]
  },
  {
   "cell_type": "code",
   "execution_count": null,
   "metadata": {},
   "outputs": [],
   "source": [
    "def modify(x):\n",
    "    x += 2\n",
    "    return x\n",
    "\n",
    "x = 1 #defined in the global, pointing to a P integer 1\n",
    "print(x)\n",
    "print(modify(x)) #in the function I pass the obj to the funct but it creates SENTIRE\n",
    "#modifico quello che c'è nella funzione ma non fuori\n",
    "print(x)"
   ]
  },
  {
   "cell_type": "markdown",
   "metadata": {},
   "source": [
    "Now imagine we have a list *x =[1, 2, 3]*, i.e. a mutable object. If within the function the content of *x* is directly changed (e.g. *x[0] = 999*), then *x* changes outside the funciton as well. "
   ]
  },
  {
   "cell_type": "code",
   "execution_count": null,
   "metadata": {},
   "outputs": [],
   "source": [
    "def modify(x):\n",
    "    x[0] = 999 #sto modificando l'obj originale non lo sto creando di nuovo e keep la modifica anche quando la funzione e stata eseguita\n",
    "    return x\n",
    "\n",
    "x = [1,2,3] #list assegno un mutable obj to a global name x\n",
    "print(x)\n",
    "print(modify(x)) #function return the modified list\n",
    "print(x) #if i access to the globe the list i get the modificated one"
   ]
  },
  {
   "cell_type": "markdown",
   "metadata": {},
   "source": [
    "However, if *x* is reassigned within the function to a new object (e.g. another list), then the copy of the name *x* now points to the new object, but *x* outside the function is unchanged."
   ]
  },
  {
   "cell_type": "code",
   "execution_count": 5,
   "metadata": {},
   "outputs": [
    {
     "name": "stdout",
     "output_type": "stream",
     "text": [
      "[1, 2, 3]\n",
      "[4, 5, 6]\n",
      "[1, 2, 3]\n"
     ]
    }
   ],
   "source": [
    "def no_modify(x): #quando inizio la funzione x punta ancora all'elemento originale cioè alla lista 1,2,3\n",
    "    x = [4,5,6] #x dentro la funzione punta ad un altro P obj che è la lista 4,5,6 \n",
    "                #non creo un nuovo oggetto, modifico quello già esistente\n",
    "    return x\n",
    "\n",
    "x = [1,2,3]\n",
    "print(x)\n",
    "print(no_modify(x)) #assegno un nuovo oggetto alla variabile globale creata sopra cioè a x (che è un P. name)\n",
    "print(x)\n"
   ]
  },
  {
   "cell_type": "markdown",
   "metadata": {},
   "source": [
    "### Initialization of function arguments"
   ]
  },
  {
   "cell_type": "markdown",
   "metadata": {},
   "source": [
    "A Python behaviour that may not be intuitive, and you should pay attention to:"
   ]
  },
  {
   "cell_type": "code",
   "execution_count": 6,
   "metadata": {},
   "outputs": [
    {
     "name": "stdout",
     "output_type": "stream",
     "text": [
      "[1]\n",
      "[1, 1]\n",
      "[9, 9, 9, 1]\n",
      "[1, 1, 1]\n",
      "[1, 1, 1, 1]\n"
     ]
    }
   ],
   "source": [
    "def f(x = []): #quando dò alla funzione un obj mutable e di default. In questo caso è una lista vuota\n",
    "    x.append(1)  #la funzione appenda alla lista l'elemento 1\n",
    "    return x\n",
    "\n",
    "print(f()) #not specify any argument. la funzione ritorna la lista con dentro l'elemento 1 che la funzione mette dentro\n",
    "print(f()) #non dò nessun elemento alla funzione ma non è che lei crea di nuovp una lista vupta e ci appende l'elemento 1\n",
    "# dalla seconda volta che chiamo la funzione lei appende al secondo elemento 1 come se l'elemento x vivesse anche fuori dalla funzione\n",
    "#perchè si ricorda dalla prima volta che l'ho chiamata\n",
    "print(f(x = [9,9,9])) #ci metto un input ci mette quello che dò e poi appende anche 1. Se dò input e non lascio di \n",
    "#default fa quello che mi aspetterei\n",
    "print(f())\n",
    "print(f())"
   ]
  },
  {
   "cell_type": "markdown",
   "metadata": {},
   "source": [
    "What actually happens: a new list is created once when the function is defined, and the same list is used in each successive call.\n",
    "\n",
    "Python’s default arguments are evaluated once when the function is defined, not each time the function is called (like it is in say, Ruby). This means that if you use a mutable default argument and mutate it, you will and have mutated that object for all future calls to the function as well. Check this [post](https://docs.python-guide.org/writing/gotchas/).\n",
    "\n",
    "What you should do instead: create a new object each time the function is called, by using a default arg to signal that no argument was provided (None is often a good choice)."
   ]
  },
  {
   "cell_type": "code",
   "execution_count": 7,
   "metadata": {},
   "outputs": [
    {
     "name": "stdout",
     "output_type": "stream",
     "text": [
      "[1]\n",
      "[1]\n",
      "[9, 9, 9, 1]\n",
      "[1]\n",
      "[1]\n"
     ]
    }
   ],
   "source": [
    "def f(x = None):\n",
    "    if x is None: #se non passo nulla alla funzione lei capisce che deve inizializzare una lista vuota così ogni volta\n",
    "        #che chiamo la funzione mi dà una lista con solo un elemento che è 1 (perchè lo appendo dentro la funzione)\n",
    "        x = []\n",
    "    x.append(1)\n",
    "    return x\n",
    "\n",
    "print(f())\n",
    "print(f())\n",
    "print(f(x = [9,9,9]))\n",
    "print(f())\n",
    "print(f())"
   ]
  },
  {
   "cell_type": "markdown",
   "metadata": {},
   "source": [
    "## Higher order functions\n",
    "\n",
    "A function that uses another function as an input argument or returns a function is known as a higher-order function (HOF). The most familiar examples are `map` and `filter`."
   ]
  },
  {
   "cell_type": "markdown",
   "metadata": {},
   "source": [
    "### map\n",
    "\n",
    "The map function applies a function to each member of a collection"
   ]
  },
  {
   "cell_type": "code",
   "execution_count": 8,
   "metadata": {},
   "outputs": [
    {
     "name": "stdout",
     "output_type": "stream",
     "text": [
      "[0, 1, 4, 9, 16]\n",
      "0\n",
      "1\n",
      "4\n",
      "9\n",
      "16\n"
     ]
    }
   ],
   "source": [
    "x = list(map(square, range(5))) #funzioni che usano funzioni come input\n",
    "#map takes an argument a function and another obj che puo essere una lsita o qualcosaltro.\n",
    "#in questo caso applico square a tutti gli elementi della lista che sono dati da range(5) cioè 0,1,2,3,4\n",
    "print(x)\n",
    "#the map return ad iterator\n",
    "#posso looparci e print each element\n",
    "\n",
    "# Note the difference w.r.t python 2. In python 3 map retuns an iterator so you can do stuff like:\n",
    "for i in map(square, range(5)): print(i)"
   ]
  },
  {
   "cell_type": "markdown",
   "metadata": {},
   "source": [
    "### filter\n",
    "\n",
    "The filter function applies a predicate to each member of a collection, retaining only those where the predicate is True"
   ]
  },
  {
   "cell_type": "code",
   "execution_count": 9,
   "metadata": {},
   "outputs": [
    {
     "name": "stdout",
     "output_type": "stream",
     "text": [
      "[0, 2, 4]\n"
     ]
    }
   ],
   "source": [
    " def is_even(x):\n",
    "    return x % 2 == 0\n",
    "\n",
    "print(list(filter(is_even, range(5))))\n",
    "#input function+obj\n",
    "#keeps those elements che sono veri, cioè lui scorre la lista divide per due e poi prende solo quelli per cui la divisione fa zero\n",
    "#cioè appunto i numeri pari. quelli dispari per cui non è vero che la divisione fa zero non li prende"
   ]
  },
  {
   "cell_type": "code",
   "execution_count": 10,
   "metadata": {},
   "outputs": [
    {
     "data": {
      "text/plain": [
       "[0, 4, 16]"
      ]
     },
     "execution_count": 10,
     "metadata": {},
     "output_type": "execute_result"
    }
   ],
   "source": [
    "list(map(square, filter(is_even, range(5))))\n",
    "#posso comporre HOF\n"
   ]
  },
  {
   "cell_type": "markdown",
   "metadata": {},
   "source": [
    "### reduce\n",
    "\n",
    "The reduce function reduces a collection using a binary operator to combine items two at a time. More often than not, reduce can be substituted with a more efficient `for` loop. It is worth mentioning it for its key role in big-data applications together with map (the map-reduce paradigm). \n",
    "N.B.: it no longer exist as built-in function in python 3, it is now part of the `functools` library"
   ]
  },
  {
   "cell_type": "code",
   "execution_count": 11,
   "metadata": {},
   "outputs": [
    {
     "name": "stdout",
     "output_type": "stream",
     "text": [
      "Adding 1 and 2\n",
      "Adding 3 and 3\n",
      "Adding 6 and 4\n",
      "Adding 10 and 5\n"
     ]
    },
    {
     "data": {
      "text/plain": [
       "15"
      ]
     },
     "execution_count": 11,
     "metadata": {},
     "output_type": "execute_result"
    }
   ],
   "source": [
    "from functools import reduce\n",
    "\n",
    "def my_add(x, y): #only 2 arguments in input\n",
    "    print(\"Adding\", x, \"and\", y)\n",
    "    return x + y\n",
    "\n",
    "# another implementation of the sum function\n",
    "reduce(my_add, [1,2,3,4,5])\n",
    "#first two elements 1 2 \n",
    "#al secondo giro aggiungo 3 (cioè 2+1) a 3 che è il terzo elemento della lista"
   ]
  },
  {
   "cell_type": "markdown",
   "metadata": {},
   "source": [
    "### zip\n",
    "\n",
    "zip is useful when you need to iterate over matched elements of multiple lists"
   ]
  },
  {
   "cell_type": "code",
   "execution_count": 12,
   "metadata": {},
   "outputs": [
    {
     "name": "stdout",
     "output_type": "stream",
     "text": [
      "1 10 a\n",
      "2 20 b\n",
      "3 30 c\n",
      "4 40 d\n"
     ]
    }
   ],
   "source": [
    "#per loopare su tutte le liste che ho\n",
    "xs = [1, 2, 3, 4]\n",
    "ys = [10, 20, 30, 40]\n",
    "zs = ['a', 'b', 'c', 'd', 'e']\n",
    "\n",
    "for x, y, z in zip(xs, ys, zs): #se dò tre liste devo dare a zip tre valore uno per lista\n",
    "    #se le liste hanno different lenght zip stops at the shorter quidni quando la più corta dinisce il loop finisce\n",
    "    print(x, y, z)"
   ]
  },
  {
   "cell_type": "markdown",
   "metadata": {},
   "source": [
    "### Custom HOF"
   ]
  },
  {
   "cell_type": "markdown",
   "metadata": {},
   "source": [
    "Python allows you to define custom HOF, or in general functions that accept as arguments other functions"
   ]
  },
  {
   "cell_type": "code",
   "execution_count": 13,
   "metadata": {},
   "outputs": [
    {
     "name": "stdout",
     "output_type": "stream",
     "text": [
      "30\n",
      "100\n"
     ]
    }
   ],
   "source": [
    "def custom_sum(xs, transform):\n",
    "    \"\"\"Returns the sum of xs after a user specified transform.\"\"\"\n",
    "    return sum(map(transform, xs))\n",
    "\n",
    "xs = range(5)\n",
    "print(custom_sum(xs, square))\n",
    "print(custom_sum(xs, cube))\n",
    "\n"
   ]
  },
  {
   "cell_type": "markdown",
   "metadata": {},
   "source": [
    "### Returning a function"
   ]
  },
  {
   "cell_type": "markdown",
   "metadata": {},
   "source": [
    "Other than passed as arguments, functions can also be returned"
   ]
  },
  {
   "cell_type": "code",
   "execution_count": 14,
   "metadata": {},
   "outputs": [],
   "source": [
    "def make_logger(target):\n",
    "    def logger(data): #funtion whitin \n",
    "        with open(target, 'a') as f:\n",
    "            f.write(data + '\\n') #scrive cose nel file di testo\n",
    "    return logger #vive solo dentro la funzione principale a meno che non la ritorno come qua: in quesot modo si può accedere globalmente\n",
    "\n",
    "foo_logger = make_logger('foo.txt') #foo.txt will be created if not there already e me lo mette nella cartella che sto usando\n",
    "foo_logger('Hello')\n",
    "foo_logger('World')\n",
    "#foo è il nome del file e lo metto davanti a logger per dirgli che deve scrivere e creare proprio su foo"
   ]
  },
  {
   "cell_type": "code",
   "execution_count": 15,
   "metadata": {},
   "outputs": [
    {
     "name": "stdout",
     "output_type": "stream",
     "text": [
      "Hello\n",
      "World\n"
     ]
    }
   ],
   "source": [
    "! cat 'foo.txt' #! before significa che cat deve printare on screen il contenuto di foo file"
   ]
  },
  {
   "cell_type": "markdown",
   "metadata": {},
   "source": [
    "## Anonimous functions (lambda)\n",
    "\n",
    "When using functional style, there is often the need to create specific functions that perform a limited task as input to a HOF such as map or filter. In such cases, these functions are often written as anonymous or lambda functions. \n",
    "The syntax is as follows:\n",
    "\n",
    "lambda *arguments* : *expression*\n",
    "\n",
    "\n",
    "If you find it hard to understand what a lambda function is doing, it should probably be rewritten as a regular function."
   ]
  },
  {
   "cell_type": "code",
   "execution_count": 16,
   "metadata": {},
   "outputs": [
    {
     "data": {
      "text/plain": [
       "7"
      ]
     },
     "execution_count": 16,
     "metadata": {},
     "output_type": "execute_result"
    }
   ],
   "source": [
    "sum = lambda x, y: x+y  \n",
    "sum(3, 4)"
   ]
  },
  {
   "cell_type": "code",
   "execution_count": 17,
   "metadata": {},
   "outputs": [
    {
     "name": "stdout",
     "output_type": "stream",
     "text": [
      "0\n",
      "1\n",
      "4\n",
      "9\n",
      "16\n"
     ]
    }
   ],
   "source": [
    "for i in map(lambda x: x*x, range(5)): print(i) #stesso risultato di quando ho definito esternamente la square function"
   ]
  },
  {
   "cell_type": "code",
   "execution_count": null,
   "metadata": {},
   "outputs": [],
   "source": [
    "# what does this function do?\n",
    "#domanda tipo dell'esame!!!\n",
    "from functools import reduce\n",
    "s1 = reduce(lambda x, y: x + y, map(lambda x: x**2, range(1,10)))\n",
    "print(s1)"
   ]
  },
  {
   "cell_type": "markdown",
   "metadata": {},
   "source": [
    "## Recursive functions "
   ]
  },
  {
   "cell_type": "code",
   "execution_count": 18,
   "metadata": {},
   "outputs": [
    {
     "name": "stdout",
     "output_type": "stream",
     "text": [
      "[1, 1, 2, 3, 5, 8, 13, 21, 34, 55]\n"
     ]
    }
   ],
   "source": [
    "def fib1(n):\n",
    "    \"\"\"Fib with recursion.\"\"\"\n",
    "\n",
    "    # base case\n",
    "    if n==0 or n==1:\n",
    "        return 1\n",
    "    # recursive case\n",
    "    else:\n",
    "        return fib1(n-1) + fib1(n-2) #they call themselves inside them\n",
    "\n",
    "    \n",
    "print([fib1(i) for i in range(10)])"
   ]
  },
  {
   "cell_type": "code",
   "execution_count": 20,
   "metadata": {},
   "outputs": [
    {
     "name": "stdout",
     "output_type": "stream",
     "text": [
      "3\n"
     ]
    }
   ],
   "source": [
    "# In Python, a more efficient version that does not use recursion is\n",
    "\n",
    "def fib2(n):\n",
    "    \"\"\"Fib without recursion.\"\"\"\n",
    "    a, b = 0, 1\n",
    "    for i in range(1, n+1):\n",
    "        a, b = b, a+b\n",
    "    return b\n",
    "\n",
    "print([fib2(i) for i in range(10)])\n"
   ]
  },
  {
   "cell_type": "code",
   "execution_count": 22,
   "metadata": {},
   "outputs": [
    {
     "name": "stdout",
     "output_type": "stream",
     "text": [
      "7.33 ms ± 1.32 ms per loop (mean ± std. dev. of 7 runs, 100 loops each)\n",
      "2.37 µs ± 134 ns per loop (mean ± std. dev. of 7 runs, 100000 loops each)\n"
     ]
    }
   ],
   "source": [
    "# check indeed the timing to compute the output\n",
    "\n",
    "%timeit fib1(20)\n",
    "%timeit fib2(20)\n"
   ]
  },
  {
   "cell_type": "markdown",
   "metadata": {},
   "source": [
    "## Decorators\n",
    "\n",
    "Decorators are a type of HOF that take a function and return a wrapped function that provides additional useful properties.\n",
    "\n",
    "Examples:\n",
    "\n",
    "  - logging\n",
    "  - Just-In-Time (JIT) compilation\n",
    "  - ...\n",
    "  \n",
    "Without using decorators:"
   ]
  },
  {
   "cell_type": "code",
   "execution_count": 25,
   "metadata": {},
   "outputs": [],
   "source": [
    "def my_decorator(func):\n",
    "    def wrapper():\n",
    "        print(\"Something is happening before the function is called.\")\n",
    "        func()\n",
    "        print(\"Something is happening after the function is called.\")\n",
    "    return wrapper\n",
    "\n",
    "def say_whee():\n",
    "    print(\"Whee cool !\")\n",
    "\n",
    "say_whee = my_decorator(say_whee)"
   ]
  },
  {
   "cell_type": "code",
   "execution_count": 26,
   "metadata": {},
   "outputs": [
    {
     "name": "stdout",
     "output_type": "stream",
     "text": [
      "Something is happening before the function is called.\n",
      "Whee cool !\n",
      "Something is happening after the function is called.\n"
     ]
    }
   ],
   "source": [
    "say_whee()"
   ]
  },
  {
   "cell_type": "markdown",
   "metadata": {},
   "source": [
    "Python allows you to use decorators in a simpler way with the @ symbol, sometimes called the “pie” syntax"
   ]
  },
  {
   "cell_type": "code",
   "execution_count": 1,
   "metadata": {},
   "outputs": [],
   "source": [
    "def my_decorator(func):\n",
    "    def wrapper():\n",
    "        print(\"Something is happening before the function is called.\")\n",
    "        func()\n",
    "        print(\"Something is happening after the function is called.\")\n",
    "    return wrapper\n",
    "\n",
    "@my_decorator #SENTIRE cosa fa @\n",
    "def say_whee():\n",
    "    print(\"Whee!\")"
   ]
  },
  {
   "cell_type": "code",
   "execution_count": 2,
   "metadata": {},
   "outputs": [
    {
     "name": "stdout",
     "output_type": "stream",
     "text": [
      "Something is happening before the function is called.\n",
      "Whee!\n",
      "Something is happening after the function is called.\n"
     ]
    }
   ],
   "source": [
    "say_whee()"
   ]
  },
  {
   "cell_type": "markdown",
   "metadata": {},
   "source": [
    "## Useful Modules\n",
    "\n",
    "You may want to have a look at the content of the following modules for further usage of (HO) functions:\n",
    "  - [operator](https://docs.python.org/3/library/operator.html)\n",
    "  - [functools](https://docs.python.org/3/library/functools.html)\n",
    "  - [itertools](https://docs.python.org/3/library/itertools.html)\n",
    "  - [toolz](https://pypi.org/project/toolz/)\n",
    "  - [funcy](https://pypi.org/project/funcy/)"
   ]
  },
  {
   "cell_type": "markdown",
   "metadata": {},
   "source": [
    "## Iterators\n",
    "\n",
    "Iterators represent streams of values. Because only one value is consumed at a time, they use very little memory. Use of iterators is very helpful for working with data sets too large to fit into RAM.\n",
    "\n",
    "The iterator object is initialized using the `iter()` method on iterable objects like lists, tuples, dicts, and sets. It uses the `next()` method for iteration."
   ]
  },
  {
   "cell_type": "code",
   "execution_count": 30,
   "metadata": {},
   "outputs": [
    {
     "name": "stdout",
     "output_type": "stream",
     "text": [
      "<list_iterator object at 0x10652ab38>\n",
      "1\n",
      "2\n",
      "3\n"
     ]
    }
   ],
   "source": [
    "# Iterators can be created from sequences with the built-in function iter()\n",
    "xs = [1,2,3]\n",
    "x_iter = iter(xs)  \n",
    "#strings of values \n",
    "\n",
    "#not all P obj are iteratable??\n",
    "#utili perchè così non occupo troppa memoria\n",
    "\n",
    "print(x_iter)\n",
    "print(next(x_iter)) #posso accedere al prossimo elemento dell'iteratore\n",
    "print(next(x_iter)) #come se facessi un loop della lista xs\n",
    "print(next(x_iter))\n",
    "#print(next(x_iter)) se cerco di ottenere l'elemento dopo l'ultimo ottengo un errore"
   ]
  },
  {
   "cell_type": "code",
   "execution_count": 31,
   "metadata": {},
   "outputs": [
    {
     "name": "stdout",
     "output_type": "stream",
     "text": [
      "1\n",
      "2\n",
      "3\n"
     ]
    }
   ],
   "source": [
    "# Most commonly, iterators are used (automatically) within a for loop\n",
    "# which terminates when it encouters a StopIteration exception\n",
    "\n",
    "x_iter = iter(xs)\n",
    "for x in x_iter:\n",
    "    print(x)"
   ]
  },
  {
   "cell_type": "markdown",
   "metadata": {},
   "source": [
    "# Classes and Objects\n",
    "\n",
    "Old school object-oriented programming is possible and often used in python. Classes are defined similarly to standard object-oriented languages, with similar functionalities.\n",
    "\n",
    "The main python doc [page](https://docs.python.org/3.6/tutorial/classes.html) is worth reading through."
   ]
  },
  {
   "cell_type": "code",
   "execution_count": 32,
   "metadata": {},
   "outputs": [
    {
     "name": "stdout",
     "output_type": "stream",
     "text": [
      "buddy 12\n",
      "3\n",
      "buddy buddy\n"
     ]
    }
   ],
   "source": [
    "# Class definition\n",
    "class Pet:\n",
    "    \n",
    "    #first define attributes then methods\n",
    "    #2 types : class common to all instances of same class\n",
    "    #           \n",
    "    # Class attributes alias for variables, common for all instances of the same class\n",
    "    #all class's attributes have name and age inizializzati a none\n",
    "    name = None\n",
    "    age = None\n",
    "    \n",
    "    # Class methods alias for funzioni dentro le classi ma non sono prorio funzioni\n",
    "    # the \"constructor\"\n",
    "    def __init__(self, name, age):  # inizialize the elements of the class\n",
    "                                    # all take self come primo argomento perchè si riferisce alla classe stessa\n",
    "        # Instance attributes diversi da name and age definiti prima\n",
    "        #possono usarlo solo le instances of this class\n",
    "        self.name = name \n",
    "        self.age = age\n",
    "    \n",
    "    # class functions take the \"self\" parameter!\n",
    "    def set_name(self, name): #setter method\n",
    "        self.name = name\n",
    "    \n",
    "    def get_name(self): #getter method\n",
    "        return self.name\n",
    "    \n",
    "    # You can define methods like the two above, but it's not usually necessary because you can get/set the values directly\n",
    "    \n",
    "    def convert_age(self, factor):\n",
    "        self.age *= factor\n",
    "# End class definition\n",
    "\n",
    "buddy = Pet(\"buddy\", 12) # Create instance of class \"Pet\"\n",
    "#call the constractur the name and the age che sono settati come instances here\n",
    "\n",
    "print(buddy.name, buddy.age) #nome dell'instance fatta . nome degli attributes dentro la funzione\n",
    "buddy.age = 3\n",
    "print(buddy.age)\n",
    "print(buddy.get_name(), buddy.name) # Same result\n"
   ]
  },
  {
   "cell_type": "markdown",
   "metadata": {},
   "source": [
    "Class inheritance is present in Python too:"
   ]
  },
  {
   "cell_type": "code",
   "execution_count": 33,
   "metadata": {},
   "outputs": [
    {
     "name": "stdout",
     "output_type": "stream",
     "text": [
      "toby\n",
      "70\n",
      "dog\n"
     ]
    }
   ],
   "source": [
    "# ineritance is straightforward\n",
    "class Dog(Pet): #eredita cose della class pet scritta prima\n",
    "    #la classe cani che è la child class eredita la classe pet che è la parent class\n",
    "    \n",
    "    # the following variables is \"global\", i.e. holds for all \"Dog\" objects\n",
    "    species = \"mammal\"\n",
    "    \n",
    "    # functions can be redefined as usual\n",
    "    def convert_age(self): #presente anche nelal class Pet ma l'ho ridefinita anche in questa e se la chiamo mi usa questa qua non quella originale\n",
    "        self.age *= 7\n",
    "    def set_species(self, species):\n",
    "        self.species = species\n",
    "        \n",
    "#creating an instance of class dog ad i pass to it name and age of the dog perchè la costruzione l'ha ereditata da Pet\n",
    "puppy = Dog(\"toby\", 10) # When \"puppy\" object is instantiated, the parent class \"Pet\" constructor is called\n",
    "print(puppy.name)\n",
    "puppy.convert_age() # Call \"Dog\" class method \"convert_age\" (and not parent's class \"Pet\" method, which has been overridden)\n",
    "print(puppy.age)\n",
    "puppy.species = \"dog\"\n",
    "print(puppy.species)"
   ]
  },
  {
   "cell_type": "code",
   "execution_count": 34,
   "metadata": {},
   "outputs": [
    {
     "name": "stdout",
     "output_type": "stream",
     "text": [
      "mammal\n"
     ]
    }
   ],
   "source": [
    "puppy2 = Dog(\"fido\", 6)\n",
    "print(puppy2.species)"
   ]
  },
  {
   "cell_type": "markdown",
   "metadata": {},
   "source": [
    "The child class attributes are not accessible by an instance of the parent class:"
   ]
  },
  {
   "cell_type": "code",
   "execution_count": 37,
   "metadata": {},
   "outputs": [],
   "source": [
    "#buddy = Pet(\"buddy\", 12) \n",
    "#non posso definire una roba in Pet e cercare di usare qualcosa in dog perchè l'eredità va solo in direzione padre figlio\n",
    "#print(buddy.species)"
   ]
  },
  {
   "cell_type": "code",
   "execution_count": null,
   "metadata": {},
   "outputs": [],
   "source": []
  }
 ],
 "metadata": {
  "interpreter": {
   "hash": "aee8b7b246df8f9039afb4144a1f6fd8d2ca17a180786b69acc140d282b71a49"
  },
  "kernelspec": {
   "display_name": "Python 3.7.2 64-bit",
   "name": "python3"
  },
  "language_info": {
   "codemirror_mode": {
    "name": "ipython",
    "version": 3
   },
   "file_extension": ".py",
   "mimetype": "text/x-python",
   "name": "python",
   "nbconvert_exporter": "python",
   "pygments_lexer": "ipython3",
   "version": "3.7.2"
  }
 },
 "nbformat": 4,
 "nbformat_minor": 2
}
