{
 "cells": [
  {
   "cell_type": "code",
   "execution_count": 28,
   "metadata": {},
   "outputs": [],
   "source": [
    "import pandas as pd\n",
    "import numpy as np\n",
    "import json\n",
    "import csv"
   ]
  },
  {
   "cell_type": "markdown",
   "metadata": {},
   "source": [
    "1\\. Perform the following operations on plain `txt` files:\n",
    "\n",
    "+ create a list of integrer numbers and then save it to a text file named \"data_int.txt\". Run the `cat` command to print the content of the file.\n",
    "+ create a matrix of 5x5 floats and then save it to a text file named \"data_float.txt\". Use the `cat` command to print the content of the file.\n",
    "+ load the txt file of the previous point and convert it to a csv file by hand."
   ]
  },
  {
   "cell_type": "code",
   "execution_count": 18,
   "metadata": {},
   "outputs": [
    {
     "name": "stdout",
     "output_type": "stream",
     "text": [
      "1\n",
      "2\n",
      "3\n",
      "4\n",
      "5\n",
      "[0.  0.2 0.4 0.6 0.8]\n",
      "[1.  1.2 1.4 1.6 1.8]\n",
      "[2.  2.2 2.4 2.6 2.8]\n",
      "[3.  3.2 3.4 3.6 3.8]\n",
      "[4.  4.2 4.4 4.6 4.8]\n"
     ]
    }
   ],
   "source": [
    "\n",
    "#creating a list of integer numbers\n",
    "l = [1, 2, 3, 4, 5]\n",
    "#defining txt file name\n",
    "file1 = \"data_int.txt\"\n",
    "#creating and saving the file \n",
    "with open(file1, 'w') as f1:\n",
    "    for i in l:\n",
    "        f1.write(str(i) + '\\n')\n",
    "#printing the content\n",
    "!cat data_int.txt\n",
    "\n",
    "#creating a matrix 5x5\n",
    "for j in range(6): \n",
    "    m = np.array([np.arange(0,j,0.2)])\n",
    "M = m.reshape(5,5)\n",
    "#creating and saving the file\n",
    "file2 = \"data_float.txt\"\n",
    "with open(file2, 'w') as f2:\n",
    "    for i in M:\n",
    "        f2.write(str(i) + '\\n')\n",
    "#printing the content\n",
    "!cat data_float.txt\n",
    "\n",
    "#loading data_float.txt\n",
    "read_file = pd.read_csv (\"data_float.txt\")\n",
    "#converting into cvs file\n",
    "read_file.to_csv (\"data_float.csv\", index=None)"
   ]
  },
  {
   "cell_type": "markdown",
   "metadata": {},
   "source": [
    "2\\. Load the file *user_data.json*, which can be found at:\n",
    "\n",
    "- https://www.dropbox.com/s/sz5klcdpckc39hd/user_data.json\n",
    "\n",
    "and filter the data by the \"CreditCardType\" when it equals to \"American Express\". Than save the data to a new CSV file."
   ]
  },
  {
   "cell_type": "code",
   "execution_count": 30,
   "metadata": {},
   "outputs": [
    {
     "name": "stdout",
     "output_type": "stream",
     "text": [
      "[{\"ID\": \"2\", \"JobTitle\": \"Investment  Advisor\", \"EmailAddress\": \"Clint_Thorpe5003@bulaffy.com\", \"FirstNameLastName\": \"Clint Thorpe\", \"CreditCard\": \"7083-8766-0251-2345\", \"CreditCardType\": \"American Express\"}, {\"ID\": \"12\", \"JobTitle\": \"Retail Trainee\", \"EmailAddress\": \"Phillip_Carpenter9505@famism.biz\", \"FirstNameLastName\": \"Phillip Carpenter\", \"CreditCard\": \"3657-0088-0820-5247\", \"CreditCardType\": \"American Express\"}, {\"ID\": \"28\", \"JobTitle\": \"Project Manager\", \"EmailAddress\": \"Russel_Graves1378@extex.org\", \"FirstNameLastName\": \"Russel Graves\", \"CreditCard\": \"6718-4818-8011-6024\", \"CreditCardType\": \"American Express\"}, {\"ID\": \"39\", \"JobTitle\": \"Stockbroker\", \"EmailAddress\": \"Leanne_Newton1268@typill.biz\", \"FirstNameLastName\": \"Leanne Newton\", \"CreditCard\": \"5438-0816-4166-4847\", \"CreditCardType\": \"American Express\"}, {\"ID\": \"57\", \"JobTitle\": \"Budget Analyst\", \"EmailAddress\": \"Tony_Giles1960@iatim.tech\", \"FirstNameLastName\": \"Tony Giles\", \"CreditCard\": \"8130-3425-7573-7745\", \"CreditCardType\": \"American Express\"}, {\"ID\": \"62\", \"JobTitle\": \"CNC Operator\", \"EmailAddress\": \"Owen_Allcott5125@bauros.biz\", \"FirstNameLastName\": \"Owen Allcott\", \"CreditCard\": \"4156-0107-7210-2630\", \"CreditCardType\": \"American Express\"}, {\"ID\": \"68\", \"JobTitle\": \"Project Manager\", \"EmailAddress\": \"Liam_Lynn3280@kideod.biz\", \"FirstNameLastName\": \"Liam Lynn\", \"CreditCard\": \"7152-3247-6053-2233\", \"CreditCardType\": \"American Express\"}, {\"ID\": \"74\", \"JobTitle\": \"Dentist\", \"EmailAddress\": \"Regina_Woodcock5820@yahoo.com\", \"FirstNameLastName\": \"Regina Woodcock\", \"CreditCard\": \"0208-1753-3870-8002\", \"CreditCardType\": \"American Express\"}, {\"ID\": \"81\", \"JobTitle\": \"HR Specialist\", \"EmailAddress\": \"Carter_Wallace9614@atink.com\", \"FirstNameLastName\": \"Carter Wallace\", \"CreditCard\": \"4256-7201-6717-4322\", \"CreditCardType\": \"American Express\"}, {\"ID\": \"92\", \"JobTitle\": \"Staffing Consultant\", \"EmailAddress\": \"Maia_Stark2797@jiman.org\", \"FirstNameLastName\": \"Maia Stark\", \"CreditCard\": \"3851-1403-1734-6321\", \"CreditCardType\": \"American Express\"}, {\"ID\": \"97\", \"JobTitle\": \"Stockbroker\", \"EmailAddress\": \"Ciara_Lomax982@bauros.biz\", \"FirstNameLastName\": \"Ciara Lomax\", \"CreditCard\": \"3702-3440-2472-5424\", \"CreditCardType\": \"American Express\"}, {\"ID\": \"116\", \"JobTitle\": \"Staffing Consultant\", \"EmailAddress\": \"Isabel_Ellwood1475@fuliss.net\", \"FirstNameLastName\": \"Isabel Ellwood\", \"CreditCard\": \"3738-0882-0066-6683\", \"CreditCardType\": \"American Express\"}, {\"ID\": \"148\", \"JobTitle\": \"CNC Operator\", \"EmailAddress\": \"Abdul_Townend2202@infotech44.tech\", \"FirstNameLastName\": \"Abdul Townend\", \"CreditCard\": \"4224-1226-3557-3448\", \"CreditCardType\": \"American Express\"}, {\"ID\": \"150\", \"JobTitle\": \"Fabricator\", \"EmailAddress\": \"Caleb_Poulton1735@atink.com\", \"FirstNameLastName\": \"Caleb Poulton\", \"CreditCard\": \"8203-6875-5225-0341\", \"CreditCardType\": \"American Express\"}, {\"ID\": \"151\", \"JobTitle\": \"Restaurant Manager\", \"EmailAddress\": \"Ronald_Lewis6777@deavo.com\", \"FirstNameLastName\": \"Ronald Lewis\", \"CreditCard\": \"7212-0155-5014-8471\", \"CreditCardType\": \"American Express\"}, {\"ID\": \"154\", \"JobTitle\": \"Bellman\", \"EmailAddress\": \"Faith_Seymour3829@twace.org\", \"FirstNameLastName\": \"Faith Seymour\", \"CreditCard\": \"4170-5186-6887-6558\", \"CreditCardType\": \"American Express\"}, {\"ID\": \"169\", \"JobTitle\": \"Assistant Buyer\", \"EmailAddress\": \"Anthony_Hancock9083@qater.org\", \"FirstNameLastName\": \"Anthony Hancock\", \"CreditCard\": \"0832-3357-6010-6550\", \"CreditCardType\": \"American Express\"}, {\"ID\": \"176\", \"JobTitle\": \"Healthcare Specialist\", \"EmailAddress\": \"Isabella_Willson5478@nanoff.biz\", \"FirstNameLastName\": \"Isabella Willson\", \"CreditCard\": \"5177-4868-4623-0384\", \"CreditCardType\": \"American Express\"}, {\"ID\": \"182\", \"JobTitle\": \"Pharmacist\", \"EmailAddress\": \"Stephanie_Darcy3298@bauros.biz\", \"FirstNameLastName\": \"Stephanie Darcy\", \"CreditCard\": \"0264-4020-5106-5576\", \"CreditCardType\": \"American Express\"}, {\"ID\": \"199\", \"JobTitle\": \"Investment  Advisor\", \"EmailAddress\": \"Ryan_Kennedy5565@corti.com\", \"FirstNameLastName\": \"Ryan Kennedy\", \"CreditCard\": \"3166-6287-6242-7207\", \"CreditCardType\": \"American Express\"}]"
     ]
    }
   ],
   "source": [
    "\n",
    "#downloading the file (only once then I can comment this line to avoid downloading the file several times)\n",
    "#!wget https://www.dropbox.com/s/sz5klcdpckc39hd/user_data.json -P /\n",
    "#loading the file\n",
    "j_data = json.load(open('user_data.json'))\n",
    "\n",
    "#filtering by CreditCardType \n",
    "j_filtred = [x for x in j_data if x['CreditCardType'] == 'American Express']\n",
    "\n",
    "#creating a new json file for the filtred data\n",
    "with open('f_json.json', 'w') as outfile:\n",
    "   json.dump(j_filtred, outfile)\n",
    "#checking if the file is right printing it with !cat\n",
    "!cat f_json.json\n",
    "\n",
    "df = pd.read_json('f_json.json')\n",
    "df.to_csv ('f_csv.csv', index = None)"
   ]
  },
  {
   "cell_type": "markdown",
   "metadata": {},
   "source": [
    "3\\. Load the file from this url:\n",
    "\n",
    "- https://www.dropbox.com/s/kgshemfgk22iy79/mushrooms_categorized.csv\n",
    "\n",
    "with Pandas. \n",
    "\n",
    "+ explore and print the DataFrame\n",
    "+ calculate, using `groupby()`, the average value of each feature, separately for each class\n",
    "+ save the file in a JSON format."
   ]
  },
  {
   "cell_type": "code",
   "execution_count": 50,
   "metadata": {},
   "outputs": [
    {
     "name": "stdout",
     "output_type": "stream",
     "text": [
      "Index(['class', 'cap-shape', 'cap-surface', 'cap-color', 'bruises', 'odor',\n",
      "       'gill-attachment', 'gill-spacing', 'gill-size', 'gill-color',\n",
      "       'stalk-shape', 'stalk-root', 'stalk-surface-above-ring',\n",
      "       'stalk-surface-below-ring', 'stalk-color-above-ring',\n",
      "       'stalk-color-below-ring', 'veil-type', 'veil-color', 'ring-number',\n",
      "       'ring-type', 'spore-print-color', 'population', 'habitat'],\n",
      "      dtype='object')\n",
      "       class  cap-shape  cap-surface  cap-color   bruises      odor  \\\n",
      "class                                                                 \n",
      "0        0.0   3.266160     1.615970   4.581749  0.653992  4.334601   \n",
      "1        1.0   3.436159     2.055158   4.421859  0.159346  3.940756   \n",
      "\n",
      "       gill-attachment  gill-spacing  gill-size  gill-color  ...  \\\n",
      "class                                                        ...   \n",
      "0             0.954373      0.285171   0.068441    6.622624  ...   \n",
      "1             0.995403      0.028601   0.567926    2.863636  ...   \n",
      "\n",
      "       stalk-surface-below-ring  stalk-color-above-ring  \\\n",
      "class                                                     \n",
      "0                      1.798479                6.098859   \n",
      "1                      1.394280                5.512768   \n",
      "\n",
      "       stalk-color-below-ring  veil-type  veil-color  ring-number  ring-type  \\\n",
      "class                                                                          \n",
      "0                    6.064639        0.0    1.931559     1.125475   3.007605   \n",
      "1                    5.504597        0.0    2.002043     1.009193   1.522983   \n",
      "\n",
      "       spore-print-color  population   habitat  \n",
      "class                                           \n",
      "0               3.201521    3.283270  1.148289  \n",
      "1               4.021450    4.031665  1.895812  \n",
      "\n",
      "[2 rows x 23 columns]\n",
      "\"{\\\"0\\\":{\\\"class\\\":0.0,\\\"cap-shape\\\":3.2661596958,\\\"cap-surface\\\":1.6159695817,\\\"cap-color\\\":4.5817490494,\\\"bruises\\\":0.6539923954,\\\"odor\\\":4.3346007605,\\\"gill-attachment\\\":0.9543726236,\\\"gill-spacing\\\":0.2851711027,\\\"gill-size\\\":0.0684410646,\\\"gill-color\\\":6.6226235741,\\\"stalk-shape\\\":0.6159695817,\\\"stalk-root\\\":1.4980988593,\\\"stalk-surface-above-ring\\\":1.7756653992,\\\"stalk-surface-below-ring\\\":1.7984790875,\\\"stalk-color-above-ring\\\":6.0988593156,\\\"stalk-color-below-ring\\\":6.0646387833,\\\"veil-type\\\":0.0,\\\"veil-color\\\":1.9315589354,\\\"ring-number\\\":1.1254752852,\\\"ring-type\\\":3.0076045627,\\\"spore-print-color\\\":3.2015209125,\\\"population\\\":3.283269962,\\\"habitat\\\":1.1482889734},\\\"1\\\":{\\\"class\\\":1.0,\\\"cap-shape\\\":3.4361593463,\\\"cap-surface\\\":2.0551583248,\\\"cap-color\\\":4.4218590398,\\\"bruises\\\":0.1593462717,\\\"odor\\\":3.9407558733,\\\"gill-attachment\\\":0.9954034729,\\\"gill-spacing\\\":0.0286006129,\\\"gill-size\\\":0.5679264556,\\\"gill-color\\\":2.8636363636,\\\"stalk-shape\\\":0.5148110317,\\\"stalk-root\\\":0.6925434116,\\\"stalk-surface-above-ring\\\":1.3595505618,\\\"stalk-surface-below-ring\\\":1.3942798774,\\\"stalk-color-above-ring\\\":5.5127681307,\\\"stalk-color-below-ring\\\":5.5045965271,\\\"veil-type\\\":0.0,\\\"veil-color\\\":2.0020429009,\\\"ring-number\\\":1.0091930541,\\\"ring-type\\\":1.5229826353,\\\"spore-print-color\\\":4.0214504597,\\\"population\\\":4.0316649642,\\\"habitat\\\":1.8958120531}}\""
     ]
    }
   ],
   "source": [
    "#downloading the file (only once then I can comment this line to avoid downloading the file several times)\n",
    "#!wget https://www.dropbox.com/s/kgshemfgk22iy79/mushrooms_categorized.csv -P /\n",
    "\n",
    "f = \"mushrooms_categorized.csv\"\n",
    "#loading the file with pandas\n",
    "f_pandas = pd.read_csv(f)\n",
    "#f_pandas\n",
    "\n",
    "#getting the columns of my dataframe\n",
    "cols = f_pandas.columns\n",
    "print(cols)\n",
    "\n",
    "#calculating the average value of each column so each feature and turned into a list \n",
    "f_pandas.groupby('class')[cols].mean()\n",
    "print(average)\n",
    "\n",
    "json_f = f_pandas.groupby('class')[cols].mean().to_json(orient='index')\n",
    "#creating a json file\n",
    "json_file = 'average.json'\n",
    "#storing in it averages of features for each class\n",
    "with open('average.json', 'w') as outfile:\n",
    "    json.dump(json_f, outfile)\n",
    "\n",
    "!cat average.json"
   ]
  },
  {
   "cell_type": "markdown",
   "metadata": {},
   "source": [
    "4\\. Get the binary file named *credit_card.dat* from this address:\n",
    "\n",
    "- https://www.dropbox.com/s/8m0syw2tkul3dap/credit_card.dat\n",
    "\n",
    "and convert the data into the real credit card number, knowing that:\n",
    "- each line corresponds to a credit card number, which consists of 16 characters (which are numbers in the 0-9 range) divided in 4 blocks, with a whitespace between each block\n",
    "- each character is written using a 6 bit binary representation (including the whitespace)\n",
    "- the final 4 bits of each line are a padding used to determine the end of the line, and can be ignored\n",
    "\n",
    "*Hint*: convert the binary numbers to the decimal representation first, and then use the `chr()` function to convert the latter to a char"
   ]
  },
  {
   "cell_type": "code",
   "execution_count": null,
   "metadata": {},
   "outputs": [],
   "source": [
    "!wget "
   ]
  },
  {
   "cell_type": "markdown",
   "metadata": {},
   "source": [
    "5\\. **Optional**: load the remote file:\n",
    "\n",
    "- https://www.dropbox.com/s/aamg1apjhclecka/regression_generated.csv\n",
    "\n",
    "with Pandas and create a scatter plot with all possible combinations of the following features:\n",
    "    \n",
    "  + features_1\n",
    "  + features_2\n",
    "  + features_3"
   ]
  },
  {
   "cell_type": "code",
   "execution_count": null,
   "metadata": {},
   "outputs": [],
   "source": []
  }
 ],
 "metadata": {
  "interpreter": {
   "hash": "40d3a090f54c6569ab1632332b64b2c03c39dcf918b08424e98f38b5ae0af88f"
  },
  "kernelspec": {
   "display_name": "Python 3.8.3 64-bit ('base': conda)",
   "name": "python3"
  },
  "language_info": {
   "codemirror_mode": {
    "name": "ipython",
    "version": 3
   },
   "file_extension": ".py",
   "mimetype": "text/x-python",
   "name": "python",
   "nbconvert_exporter": "python",
   "pygments_lexer": "ipython3",
   "version": "3.8.3"
  }
 },
 "nbformat": 4,
 "nbformat_minor": 2
}
